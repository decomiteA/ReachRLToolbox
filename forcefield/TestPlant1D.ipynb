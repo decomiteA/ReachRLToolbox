{
 "cells": [
  {
   "cell_type": "code",
   "execution_count": 1,
   "id": "4aabbfbc",
   "metadata": {},
   "outputs": [],
   "source": [
    "%load_ext autoreload \n",
    "%autoreload 2 \n",
    "\n",
    "from OneDMotorPlant import OneDimReach\n",
    "from agents.agent import Agent \n",
    "from collections import deque \n",
    "import matplotlib.pyplot as plt \n",
    "import numpy as np"
   ]
  },
  {
   "cell_type": "code",
   "execution_count": 2,
   "id": "1a0798c7",
   "metadata": {},
   "outputs": [],
   "source": [
    "env = OneDimReach(start_pos=1.)\n",
    "env_info = env.reset()\n"
   ]
  },
  {
   "cell_type": "code",
   "execution_count": 3,
   "id": "05e378c6",
   "metadata": {},
   "outputs": [
    {
     "name": "stdout",
     "output_type": "stream",
     "text": [
      "Size of each action: 1\n",
      "The agent observes a state with length: 3\n",
      "The starting state looks like: [0.5 0.  0. ]\n"
     ]
    }
   ],
   "source": [
    "#Provide some information about the initial state and target position\n",
    "\n",
    "action_size = env.action_size\n",
    "print('Size of each action:',action_size)\n",
    "\n",
    "#Examine the state space \n",
    "state = env.state\n",
    "state_size = len(state)\n",
    "print('The agent observes a state with length: {}'.format(state_size))\n",
    "print('The starting state looks like:',state)\n"
   ]
  },
  {
   "cell_type": "code",
   "execution_count": 4,
   "id": "57e892ec",
   "metadata": {},
   "outputs": [],
   "source": [
    "#Instantiate the agent : \n",
    "agent = Agent(state_size,action_size,random_seed=2)"
   ]
  },
  {
   "cell_type": "code",
   "execution_count": 5,
   "id": "9d44fa87",
   "metadata": {},
   "outputs": [
    {
     "name": "stdout",
     "output_type": "stream",
     "text": [
      "episode 0 score -0.2 average score -0.2\n",
      "episode 1 score -0.2 average score -0.2\n",
      "episode 2 score -0.2 average score -0.2\n",
      "episode 3 score -0.2 average score -0.2\n",
      "episode 4 score -0.1 average score -0.2\n",
      "episode 5 score -0.1 average score -0.2\n",
      "episode 6 score -0.1 average score -0.2\n",
      "episode 7 score -0.1 average score -0.2\n",
      "episode 8 score -0.1 average score -0.1\n",
      "episode 9 score -0.1 average score -0.1\n",
      "episode 10 score -0.0 average score -0.1\n",
      "episode 11 score -0.0 average score -0.1\n",
      "episode 12 score -0.0 average score -0.1\n",
      "episode 13 score -0.0 average score -0.1\n",
      "episode 14 score -0.1 average score -0.1\n",
      "episode 15 score -0.0 average score -0.1\n",
      "episode 16 score -0.0 average score -0.1\n",
      "episode 17 score -0.0 average score -0.1\n",
      "episode 18 score -0.0 average score -0.1\n",
      "episode 19 score -0.0 average score -0.1\n",
      "episode 20 score -0.0 average score -0.1\n",
      "episode 21 score -0.0 average score -0.1\n",
      "episode 22 score -0.0 average score -0.1\n",
      "episode 23 score -0.0 average score -0.1\n",
      "episode 24 score -0.0 average score -0.1\n",
      "episode 25 score -0.0 average score -0.1\n",
      "episode 26 score -0.0 average score -0.1\n",
      "episode 27 score -0.0 average score -0.1\n",
      "episode 28 score -0.0 average score -0.1\n",
      "episode 29 score -0.0 average score -0.1\n",
      "episode 30 score -0.0 average score -0.1\n",
      "episode 31 score -0.0 average score -0.1\n",
      "episode 32 score -0.0 average score -0.1\n",
      "episode 33 score -0.0 average score -0.1\n",
      "episode 34 score -0.0 average score -0.1\n",
      "episode 35 score -0.0 average score -0.1\n",
      "episode 36 score -0.0 average score -0.1\n",
      "episode 37 score -0.0 average score -0.1\n",
      "episode 38 score -0.0 average score -0.1\n",
      "episode 39 score -0.0 average score -0.1\n",
      "episode 40 score -0.0 average score -0.1\n",
      "episode 41 score -0.0 average score -0.1\n",
      "episode 42 score -0.0 average score -0.1\n",
      "episode 43 score -0.0 average score -0.1\n",
      "episode 44 score -0.0 average score -0.1\n",
      "episode 45 score -0.0 average score -0.1\n",
      "episode 46 score -0.0 average score -0.1\n",
      "episode 47 score -0.0 average score -0.1\n",
      "episode 48 score -0.0 average score -0.1\n",
      "episode 49 score -0.0 average score -0.1\n",
      "episode 50 score -0.0 average score -0.1\n",
      "episode 51 score -0.0 average score -0.1\n",
      "episode 52 score -0.0 average score -0.1\n",
      "episode 53 score -0.0 average score -0.1\n",
      "episode 54 score -0.0 average score -0.1\n",
      "episode 55 score -0.0 average score -0.1\n",
      "episode 56 score -0.0 average score -0.1\n",
      "episode 57 score -0.0 average score -0.1\n",
      "episode 58 score -0.0 average score -0.1\n",
      "episode 59 score -0.0 average score -0.1\n",
      "episode 60 score -0.0 average score -0.1\n",
      "episode 61 score -0.0 average score -0.0\n",
      "episode 62 score -0.0 average score -0.0\n",
      "episode 63 score -0.0 average score -0.0\n",
      "episode 64 score -0.0 average score -0.0\n",
      "episode 65 score -0.0 average score -0.0\n",
      "episode 66 score -0.0 average score -0.0\n",
      "episode 67 score -0.0 average score -0.0\n",
      "episode 68 score -0.0 average score -0.0\n",
      "episode 69 score -0.0 average score -0.0\n",
      "episode 70 score -0.0 average score -0.0\n",
      "episode 71 score -0.0 average score -0.0\n",
      "episode 72 score -0.0 average score -0.0\n",
      "episode 73 score -0.0 average score -0.0\n",
      "episode 74 score -0.0 average score -0.0\n",
      "episode 75 score -0.0 average score -0.0\n",
      "episode 76 score -0.0 average score -0.0\n",
      "episode 77 score -0.0 average score -0.0\n",
      "episode 78 score -0.0 average score -0.0\n",
      "episode 79 score -0.0 average score -0.0\n",
      "episode 80 score -0.0 average score -0.0\n",
      "episode 81 score -0.0 average score -0.0\n",
      "episode 82 score -0.0 average score -0.0\n",
      "episode 83 score -0.0 average score -0.0\n",
      "episode 84 score -0.0 average score -0.0\n",
      "episode 85 score -0.0 average score -0.0\n",
      "episode 86 score -0.0 average score -0.0\n",
      "episode 87 score -0.0 average score -0.0\n",
      "episode 88 score -0.0 average score -0.0\n",
      "episode 89 score -0.0 average score -0.0\n",
      "episode 90 score -0.0 average score -0.0\n",
      "episode 91 score -0.0 average score -0.0\n",
      "episode 92 score -0.0 average score -0.0\n",
      "episode 93 score -0.0 average score -0.0\n",
      "episode 94 score -0.0 average score -0.0\n",
      "episode 95 score -0.0 average score -0.0\n",
      "episode 96 score -0.0 average score -0.0\n",
      "episode 97 score -0.0 average score -0.0\n",
      "episode 98 score -0.0 average score -0.0\n",
      "episode 99 score -0.0 average score -0.0\n"
     ]
    }
   ],
   "source": [
    "n_games=100\n",
    "score_history = []\n",
    "best_score = 0\n",
    "for i in range(n_games):\n",
    "    observation = env.reset()\n",
    "    done = False\n",
    "    score = 0\n",
    "    agent.noise.reset()\n",
    "    while not done:\n",
    "        action = agent.act(env.state)\n",
    "        observation_,reward,done,info = env.step(action)\n",
    "        agent.step(observation,action,reward,observation_,done)\n",
    "        score += env.reward\n",
    "        observation = observation_\n",
    "    \n",
    "    score_history.append(score)\n",
    "    avg_score = np.mean(score_history[-100:])\n",
    "    \n",
    "    if avg_score > best_score:\n",
    "        best_score = avg_score\n",
    "        \n",
    "        \n",
    "    print('episode',i,'score %.1f' % score, 'average score %.1f' % avg_score)\n",
    "        \n",
    "    x = [i+1 for i in range(n_games)]"
   ]
  },
  {
   "cell_type": "code",
   "execution_count": 6,
   "id": "ba3b0954",
   "metadata": {
    "scrolled": true
   },
   "outputs": [
    {
     "data": {
      "text/plain": [
       "[<matplotlib.lines.Line2D at 0x2ec5997e4c0>]"
      ]
     },
     "execution_count": 6,
     "metadata": {},
     "output_type": "execute_result"
    },
    {
     "data": {
      "image/png": "[encoded data removed]",
      "text/plain": [
       "<Figure size 432x288 with 1 Axes>"
      ]
     },
     "metadata": {
      "needs_background": "light"
     },
     "output_type": "display_data"
    }
   ],
   "source": [
    "plt.plot(score_history)"
   ]
  },
  {
   "cell_type": "code",
   "execution_count": 9,
   "id": "bd1828ac",
   "metadata": {},
   "outputs": [
    {
     "name": "stdout",
     "output_type": "stream",
     "text": [
      "[0.5 0.  0. ]\n",
      "0\n",
      "[-0.83000904]\n"
     ]
    }
   ],
   "source": [
    "print(env.state)\n",
    "print(env.time)\n",
    "print(agent.act(env.state))"
   ]
  },
  {
   "cell_type": "code",
   "execution_count": 8,
   "id": "a0e03e44",
   "metadata": {},
   "outputs": [
    {
     "name": "stdout",
     "output_type": "stream",
     "text": [
      "0\n",
      "[0.5 0.  0. ]\n"
     ]
    }
   ],
   "source": [
    "_=env.reset()\n",
    "print(env.time)\n",
    "print(env.state)"
   ]
  }
 ],
 "metadata": {
  "kernelspec": {
   "display_name": "Python 3",
   "language": "python",
   "name": "python3"
  },
  "language_info": {
   "codemirror_mode": {
    "name": "ipython",
    "version": 3
   },
   "file_extension": ".py",
   "mimetype": "text/x-python",
   "name": "python",
   "nbconvert_exporter": "python",
   "pygments_lexer": "ipython3",
   "version": "3.8.8"
  }
 },
 "nbformat": 4,
 "nbformat_minor": 5
}
