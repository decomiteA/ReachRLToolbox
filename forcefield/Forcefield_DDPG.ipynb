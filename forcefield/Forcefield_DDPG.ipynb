{
 "cells": [
  {
   "cell_type": "code",
   "execution_count": 1,
   "id": "8fdffcee",
   "metadata": {},
   "outputs": [],
   "source": [
    "from ff_environment import TargetReach\n",
    "from agent import Agent\n",
    "from collections import deque\n",
    "import matplotlib.pyplot as plt\n",
    "import numpy as np"
   ]
  },
  {
   "cell_type": "code",
   "execution_count": 2,
   "id": "050fc1c1",
   "metadata": {},
   "outputs": [],
   "source": [
    "env = TargetReach(space_padding=2, discover=True)\n",
    "env_info = env.reset()"
   ]
  },
  {
   "cell_type": "code",
   "execution_count": 3,
   "id": "9c3973ad",
   "metadata": {},
   "outputs": [
    {
     "name": "stdout",
     "output_type": "stream",
     "text": [
      "Size of each action: 2\n",
      "The agent observes a state with length: 6\n",
      "The starting state looks like: [0.5 1.  0.  0.  0.  0. ]\n"
     ]
    }
   ],
   "source": [
    "# size of each action\n",
    "action_size = env.action_size\n",
    "print('Size of each action:', action_size)\n",
    "\n",
    "# examine the state space \n",
    "state = env_info.state\n",
    "state_size = len(state)\n",
    "print('The agent observes a state with length: {}'.format(state_size))\n",
    "print('The starting state looks like:', state)"
   ]
  },
  {
   "cell_type": "code",
   "execution_count": 4,
   "id": "3661a939",
   "metadata": {},
   "outputs": [],
   "source": [
    "# Instantiate the agent:\n",
    "agent = Agent(state_size, action_size, random_seed=2)"
   ]
  },
  {
   "cell_type": "code",
   "execution_count": 5,
   "id": "36ce042f",
   "metadata": {},
   "outputs": [
    {
     "name": "stdout",
     "output_type": "stream",
     "text": [
      "Episode 0 \tAverage Reward: -10.00\n",
      "Episode 250 \tAverage Reward: -10.00\n",
      "Episode 500 \tAverage Reward: -10.00\n",
      "Episode 599 \tAverage Reward: -10.00"
     ]
    }
   ],
   "source": [
    "# train the agent with ddpg\n",
    "scores, trajectories, actions_tracker = agent.train_ddpg(env, n_episodes = 600, print_every=250, stop=True)"
   ]
  },
  {
   "cell_type": "code",
   "execution_count": 15,
   "id": "03ea395d",
   "metadata": {},
   "outputs": [
    {
     "data": {
      "text/plain": [
       "(<Figure size 432x288 with 1 Axes>, <AxesSubplot:>)"
      ]
     },
     "execution_count": 15,
     "metadata": {},
     "output_type": "execute_result"
    },
    {
     "data": {
      "image/png": "[encoded data removed]",
      "text/plain": [
       "<Figure size 432x288 with 1 Axes>"
      ]
     },
     "metadata": {
      "needs_background": "light"
     },
     "output_type": "display_data"
    }
   ],
   "source": [
    "trajectories.plot(3, legend=False)"
   ]
  },
  {
   "cell_type": "code",
   "execution_count": 7,
   "id": "08c5d471",
   "metadata": {},
   "outputs": [
    {
     "data": {
      "text/plain": [
       "[<matplotlib.lines.Line2D at 0x179d7bee0>]"
      ]
     },
     "execution_count": 7,
     "metadata": {},
     "output_type": "execute_result"
    },
    {
     "data": {
      "image/png": "[encoded data removed]",
      "text/plain": [
       "<Figure size 432x288 with 1 Axes>"
      ]
     },
     "metadata": {
      "needs_background": "light"
     },
     "output_type": "display_data"
    }
   ],
   "source": [
    "plt.plot(scores)"
   ]
  },
  {
   "cell_type": "code",
   "execution_count": 8,
   "id": "bee435ee",
   "metadata": {},
   "outputs": [],
   "source": [
    "env.add_forcefield(force=(6,0))"
   ]
  },
  {
   "cell_type": "code",
   "execution_count": 9,
   "id": "8339fd64",
   "metadata": {},
   "outputs": [
    {
     "name": "stdout",
     "output_type": "stream",
     "text": [
      "Episode 0 \tAverage Reward: -10.00\n",
      "Episode 250 \tAverage Reward: -10.00\n",
      "Episode 500 \tAverage Reward: -10.00\n",
      "Episode 599 \tAverage Reward: -10.00"
     ]
    }
   ],
   "source": [
    "# train the agent with ddpg\n",
    "scores, trajectories, actions_tracker = agent.train_ddpg(env, n_episodes = 600, print_every=250, stop=False)"
   ]
  },
  {
   "cell_type": "code",
   "execution_count": 10,
   "id": "11e11a18",
   "metadata": {},
   "outputs": [
    {
     "data": {
      "text/plain": [
       "(<Figure size 432x288 with 1 Axes>, <AxesSubplot:>)"
      ]
     },
     "execution_count": 10,
     "metadata": {},
     "output_type": "execute_result"
    },
    {
     "data": {
      "image/png": "[encoded data removed]",
      "text/plain": [
       "<Figure size 432x288 with 1 Axes>"
      ]
     },
     "metadata": {
      "needs_background": "light"
     },
     "output_type": "display_data"
    }
   ],
   "source": [
    "trajectories.plot(598, legend=False)"
   ]
  },
  {
   "cell_type": "code",
   "execution_count": 11,
   "id": "8921ccc6",
   "metadata": {},
   "outputs": [],
   "source": [
    "env.add_forcefield(force=(0,0))"
   ]
  },
  {
   "cell_type": "code",
   "execution_count": 12,
   "id": "b706b204",
   "metadata": {},
   "outputs": [
    {
     "name": "stdout",
     "output_type": "stream",
     "text": [
      "Episode 0 \tAverage Reward: -10.00\n",
      "Episode 250 \tAverage Reward: -10.00\n",
      "Episode 500 \tAverage Reward: -10.00\n",
      "Episode 599 \tAverage Reward: -10.00"
     ]
    }
   ],
   "source": [
    "# train the agent with ddpg\n",
    "scores, trajectories, actions_tracker = agent.train_ddpg(env, n_episodes = 600, print_every=250, stop=False)"
   ]
  },
  {
   "cell_type": "code",
   "execution_count": 13,
   "id": "2772e6b6",
   "metadata": {},
   "outputs": [
    {
     "data": {
      "text/plain": [
       "(<Figure size 432x288 with 1 Axes>, <AxesSubplot:>)"
      ]
     },
     "execution_count": 13,
     "metadata": {},
     "output_type": "execute_result"
    },
    {
     "data": {
      "image/png": "[encoded data removed]",
      "text/plain": [
       "<Figure size 432x288 with 1 Axes>"
      ]
     },
     "metadata": {
      "needs_background": "light"
     },
     "output_type": "display_data"
    }
   ],
   "source": [
    "trajectories.plot(0, legend=False)"
   ]
  },
  {
   "cell_type": "code",
   "execution_count": null,
   "id": "f823df2c",
   "metadata": {},
   "outputs": [],
   "source": []
  }
 ],
 "metadata": {
  "kernelspec": {
   "display_name": "Python 3 (ipykernel)",
   "language": "python",
   "name": "python3"
  },
  "language_info": {
   "codemirror_mode": {
    "name": "ipython",
    "version": 3
   },
   "file_extension": ".py",
   "mimetype": "text/x-python",
   "name": "python",
   "nbconvert_exporter": "python",
   "pygments_lexer": "ipython3",
   "version": "3.9.6"
  }
 },
 "nbformat": 4,
 "nbformat_minor": 5
}
