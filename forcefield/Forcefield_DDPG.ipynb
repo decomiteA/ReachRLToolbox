{
 "cells": [
  {
   "cell_type": "code",
   "execution_count": 1,
   "id": "8fdffcee",
   "metadata": {},
   "outputs": [],
   "source": [
    "from ff_environment import ForceField\n",
    "from agent import Agent\n",
    "from trajectories import Trajectories\n",
    "from collections import deque\n",
    "from matplotlib import cm\n",
    "import matplotlib.pyplot as plt\n",
    "import matplotlib.patches as patches\n",
    "import numpy as np\n",
    "import torch"
   ]
  },
  {
   "cell_type": "code",
   "execution_count": 2,
   "id": "050fc1c1",
   "metadata": {},
   "outputs": [],
   "source": [
    "env = ForceField(space_padding=2)\n",
    "env_info = env.reset()"
   ]
  },
  {
   "cell_type": "code",
   "execution_count": 3,
   "id": "9c3973ad",
   "metadata": {},
   "outputs": [
    {
     "name": "stdout",
     "output_type": "stream",
     "text": [
      "Size of each action: 2\n",
      "The agent observes a state with length: 4\n",
      "The starting state looks like: [0.5 1.  0.  0. ]\n"
     ]
    }
   ],
   "source": [
    "# size of each action\n",
    "action_size = env.action_size\n",
    "print('Size of each action:', action_size)\n",
    "\n",
    "# examine the state space \n",
    "state = env_info.state\n",
    "state_size = len(state)\n",
    "print('The agent observes a state with length: {}'.format(state_size))\n",
    "print('The starting state looks like:', state)"
   ]
  },
  {
   "cell_type": "code",
   "execution_count": 4,
   "id": "3661a939",
   "metadata": {},
   "outputs": [],
   "source": [
    "# Instantiate the agent:\n",
    "agent = Agent(state_size, action_size, random_seed=2)"
   ]
  },
  {
   "cell_type": "code",
   "execution_count": 5,
   "id": "36ce042f",
   "metadata": {},
   "outputs": [
    {
     "name": "stdout",
     "output_type": "stream",
     "text": [
      "\r",
      "Episode 0 \tAverage Reward: -5.71\r",
      "Episode 0 \tAverage Reward: -5.71\n",
      "\r",
      "Episode 1 \tAverage Reward: -5.88\r",
      "Episode 2 \tAverage Reward: -5.70\r",
      "Episode 3 \tAverage Reward: -5.66\r",
      "Episode 4 \tAverage Reward: -3.75\r",
      "Episode 5 \tAverage Reward: -4.04\r",
      "Episode 6 \tAverage Reward: -4.28\r",
      "Episode 7 \tAverage Reward: -4.42\r",
      "Episode 8 \tAverage Reward: -3.46\r",
      "Episode 9 \tAverage Reward: -3.68\r",
      "Episode 10 \tAverage Reward: -3.83\r",
      "Episode 11 \tAverage Reward: -3.15\r",
      "Episode 12 \tAverage Reward: -3.32\r",
      "Episode 13 \tAverage Reward: -3.51\r",
      "Episode 14 \tAverage Reward: -3.64\r",
      "Episode 15 \tAverage Reward: -3.75\r",
      "Episode 16 \tAverage Reward: -3.87\r",
      "Episode 17 \tAverage Reward: -3.95\r",
      "Episode 18 \tAverage Reward: -4.03\r",
      "Episode 19 \tAverage Reward: -3.59\r",
      "Episode 20 \tAverage Reward: -3.68\r",
      "Episode 21 \tAverage Reward: -3.75\r",
      "Episode 22 \tAverage Reward: -3.83\r",
      "Episode 23 \tAverage Reward: -3.89"
     ]
    },
    {
     "name": "stderr",
     "output_type": "stream",
     "text": [
      "/Library/Frameworks/Python.framework/Versions/3.6/lib/python3.6/site-packages/torch/nn/functional.py:1794: UserWarning: nn.functional.tanh is deprecated. Use torch.tanh instead.\n",
      "  warnings.warn(\"nn.functional.tanh is deprecated. Use torch.tanh instead.\")\n"
     ]
    },
    {
     "name": "stdout",
     "output_type": "stream",
     "text": [
      "Episode 100 \tAverage Reward: -4.93\n",
      "Episode 200 \tAverage Reward: -5.29\n",
      "Episode 300 \tAverage Reward: -5.34\n",
      "Episode 400 \tAverage Reward: -5.37\n",
      "Episode 500 \tAverage Reward: -5.36\n",
      "Episode 599 \tAverage Reward: -5.32"
     ]
    }
   ],
   "source": [
    "# train the agent with ddpg\n",
    "scores, trajectories, actions_tracker = agent.train_ddpg(env, n_episodes = 600)"
   ]
  },
  {
   "cell_type": "code",
   "execution_count": 6,
   "id": "5b8014e1",
   "metadata": {},
   "outputs": [
    {
     "data": {
      "text/plain": [
       "(<Figure size 432x288 with 1 Axes>, <AxesSubplot:>)"
      ]
     },
     "execution_count": 6,
     "metadata": {},
     "output_type": "execute_result"
    },
    {
     "data": {
      "image/png": "[encoded data removed]",
      "text/plain": [
       "<Figure size 432x288 with 1 Axes>"
      ]
     },
     "metadata": {
      "needs_background": "light"
     },
     "output_type": "display_data"
    }
   ],
   "source": [
    "trajectories.plot(500, legend=False)"
   ]
  },
  {
   "cell_type": "code",
   "execution_count": 7,
   "id": "0acc1c7a",
   "metadata": {},
   "outputs": [
    {
     "data": {
      "text/plain": [
       "[<matplotlib.lines.Line2D at 0x114688550>]"
      ]
     },
     "execution_count": 7,
     "metadata": {},
     "output_type": "execute_result"
    },
    {
     "data": {
      "image/png": "[encoded data removed]",
      "text/plain": [
       "<Figure size 432x288 with 1 Axes>"
      ]
     },
     "metadata": {
      "needs_background": "light"
     },
     "output_type": "display_data"
    }
   ],
   "source": [
    "plt.plot(scores)"
   ]
  },
  {
   "cell_type": "code",
   "execution_count": null,
   "id": "12f52b90",
   "metadata": {},
   "outputs": [],
   "source": []
  }
 ],
 "metadata": {
  "kernelspec": {
   "display_name": "Python 3",
   "language": "python",
   "name": "python3"
  },
  "language_info": {
   "codemirror_mode": {
    "name": "ipython",
    "version": 3
   },
   "file_extension": ".py",
   "mimetype": "text/x-python",
   "name": "python",
   "nbconvert_exporter": "python",
   "pygments_lexer": "ipython3",
   "version": "3.6.8"
  }
 },
 "nbformat": 4,
 "nbformat_minor": 5
}
