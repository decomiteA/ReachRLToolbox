{
 "cells": [
  {
   "cell_type": "code",
   "execution_count": 139,
   "id": "8fdffcee",
   "metadata": {},
   "outputs": [
    {
     "name": "stdout",
     "output_type": "stream",
     "text": [
      "The autoreload extension is already loaded. To reload it, use:\n",
      "  %reload_ext autoreload\n"
     ]
    }
   ],
   "source": [
    "%load_ext autoreload\n",
    "%autoreload 2\n",
    "\n",
    "from ff_environment import TargetReach, ReachToPoint\n",
    "from agent import Agent\n",
    "from collections import deque\n",
    "import matplotlib.pyplot as plt\n",
    "import numpy as np"
   ]
  },
  {
   "cell_type": "code",
   "execution_count": 140,
   "id": "050fc1c1",
   "metadata": {},
   "outputs": [],
   "source": [
    "env = TargetReach(space_padding=2, discover=False)\n",
    "env_onetarg = ReachToPoint(space_padding=2,discover=False) # test with one target point\n",
    "env_onetarg.reset()\n",
    "env_info = env.reset()"
   ]
  },
  {
   "cell_type": "code",
   "execution_count": 141,
   "id": "9c3973ad",
   "metadata": {},
   "outputs": [
    {
     "name": "stdout",
     "output_type": "stream",
     "text": [
      "Size of each action: 2\n",
      "The agent observes a state with length: 6\n",
      "The starting state looks like: [0.5 1.  0.  0.  0.  0. ]\n",
      "The same for reach to a target\n",
      "Size of each action: 2\n",
      "The agent observes a state with length: 6\n",
      "The starting state looks like: [0.5 1.  0.  0.  0.  0. ]\n"
     ]
    }
   ],
   "source": [
    "# size of each action\n",
    "action_size = env.action_size\n",
    "print('Size of each action:', action_size)\n",
    "\n",
    "# examine the state space \n",
    "state = env_info.state\n",
    "state_size = len(state)\n",
    "print('The agent observes a state with length: {}'.format(state_size))\n",
    "print('The starting state looks like:', state)\n",
    "\n",
    "print('The same for reach to a target')\n",
    "action_size = env_onetarg.action_size\n",
    "print('Size of each action:', action_size)\n",
    "\n",
    "# examine the state space \n",
    "state = env_onetarg.state\n",
    "state_size = len(state)\n",
    "print('The agent observes a state with length: {}'.format(state_size))\n",
    "print('The starting state looks like:', state)\n"
   ]
  },
  {
   "cell_type": "code",
   "execution_count": 142,
   "id": "670b4162",
   "metadata": {},
   "outputs": [
    {
     "name": "stdout",
     "output_type": "stream",
     "text": [
      "1.004987562112089\n"
     ]
    }
   ],
   "source": [
    "print(env.dist2target((1,1))) # checking function - OK "
   ]
  },
  {
   "cell_type": "code",
   "execution_count": 143,
   "id": "3661a939",
   "metadata": {},
   "outputs": [],
   "source": [
    "# Instantiate the agent:\n",
    "agent = Agent(state_size, action_size, random_seed=2)"
   ]
  },
  {
   "cell_type": "code",
   "execution_count": 144,
   "id": "36ce042f",
   "metadata": {
    "scrolled": true
   },
   "outputs": [
    {
     "name": "stdout",
     "output_type": "stream",
     "text": [
      "Episode 0 \tAverage Reward: -1.14\n",
      "Episode 1000 \tAverage Reward: 0.25\n",
      "Episode 2000 \tAverage Reward: -0.16\n",
      "Episode 3000 \tAverage Reward: -0.69\n",
      "Episode 4000 \tAverage Reward: -0.65\n",
      "Episode 5000 \tAverage Reward: -0.63\n",
      "Episode 5999 \tAverage Reward: -0.63"
     ]
    }
   ],
   "source": [
    "# train the agent with ddpg\n",
    "scores, trajectories, actions_tracker = agent.train_ddpg(env, n_episodes = 6000, print_every=1000, stop=True)"
   ]
  },
  {
   "cell_type": "code",
   "execution_count": 145,
   "id": "47333262",
   "metadata": {},
   "outputs": [
    {
     "name": "stdout",
     "output_type": "stream",
     "text": [
      "-1.0193709135055542\n",
      "430\n",
      "0.0\n"
     ]
    }
   ],
   "source": [
    "# Don't mind this - I Investigated actions...\n",
    "print(actions_tracker[-1][1:][-1])\n",
    "print(len(actions_tracker[1]))\n",
    "print(actions_tracker[1][0])"
   ]
  },
  {
   "cell_type": "code",
   "execution_count": 146,
   "id": "f3d2efed",
   "metadata": {},
   "outputs": [
    {
     "name": "stdout",
     "output_type": "stream",
     "text": [
      "without noise\n",
      "[ 0.99954647 -0.9968701 ]\n",
      "with noise\n",
      "[ 1.0502629  -0.94615364]\n",
      "[ 0.9175341 -1.0788825]\n",
      "[ 1.061979  -0.9344375]\n"
     ]
    },
    {
     "data": {
      "image/png": "[encoded data removed]",
      "text/plain": [
       "<Figure size 432x288 with 1 Axes>"
      ]
     },
     "metadata": {
      "needs_background": "light"
     },
     "output_type": "display_data"
    }
   ],
   "source": [
    "plt.plot(scores)\n",
    "\n",
    "# don't mind the lines below \n",
    "\n",
    "#print(actions_tracker[-1][1:][1])\n",
    "#print(env_onetarg.state)\n",
    "#print(agent.act(np.array([0.5,1.0,0,0,0,0])))\n",
    "#print(env_onetarg.step(agent.act(np.array([0.5,1.0,0,0,0,0]))).state)\n",
    "print('without noise')\n",
    "print(agent.act(env.state,add_noise=False))\n",
    "print('with noise')\n",
    "print(agent.act(env.state,add_noise=True))\n",
    "print(agent.act(env.state,add_noise=True))\n",
    "print(agent.act(env.state,add_noise=True))\n",
    "\n"
   ]
  },
  {
   "cell_type": "code",
   "execution_count": 148,
   "id": "03ea395d",
   "metadata": {
    "scrolled": true
   },
   "outputs": [
    {
     "data": {
      "image/png": "[encoded data removed]",
      "text/plain": [
       "<Figure size 432x288 with 4 Axes>"
      ]
     },
     "metadata": {
      "needs_background": "light"
     },
     "output_type": "display_data"
    },
    {
     "name": "stdout",
     "output_type": "stream",
     "text": [
      "[ 0.90149705  0.59651668  0.65674982 -0.6523864   0.97405372 -1.0410416 ]\n"
     ]
    }
   ],
   "source": [
    "trajectories.plot_kinematics(2000) # <--- change the number to observe other kinematics here\n",
    "print(env.state)\n",
    "#trajectories.plot(1,legend=False)"
   ]
  },
  {
   "cell_type": "code",
   "execution_count": 149,
   "id": "08c5d471",
   "metadata": {},
   "outputs": [
    {
     "name": "stdout",
     "output_type": "stream",
     "text": [
      "-1.1351623240419473 -1.1222353257708289\n",
      "0.011387797143486538\n"
     ]
    },
    {
     "data": {
      "image/png": "[encoded data removed]",
      "text/plain": [
       "<Figure size 432x288 with 1 Axes>"
      ]
     },
     "metadata": {
      "needs_background": "light"
     },
     "output_type": "display_data"
    }
   ],
   "source": [
    "plt.plot(scores)\n",
    "\n",
    "print(scores[0],scores[1])\n",
    "\n",
    "print((scores[0]-scores[1])/scores[0])"
   ]
  },
  {
   "cell_type": "code",
   "execution_count": 150,
   "id": "bee435ee",
   "metadata": {},
   "outputs": [
    {
     "name": "stdout",
     "output_type": "stream",
     "text": [
      "(6, 0)\n"
     ]
    }
   ],
   "source": [
    "env.add_forcefield(force=(6,0))\n",
    "print(env.ff_force)"
   ]
  },
  {
   "cell_type": "code",
   "execution_count": 151,
   "id": "8339fd64",
   "metadata": {},
   "outputs": [
    {
     "name": "stdout",
     "output_type": "stream",
     "text": [
      "Episode 0 \tAverage Reward: -1.09\n",
      "Episode 250 \tAverage Reward: -1.09\n",
      "Episode 500 \tAverage Reward: -1.07\n",
      "Episode 750 \tAverage Reward: -1.13\n",
      "Episode 1000 \tAverage Reward: -1.08\n",
      "Episode 1250 \tAverage Reward: -1.07\n",
      "Episode 1500 \tAverage Reward: -1.10\n",
      "Episode 1750 \tAverage Reward: -1.21\n",
      "Episode 2000 \tAverage Reward: -1.26\n",
      "Episode 2250 \tAverage Reward: -1.29\n",
      "Episode 2500 \tAverage Reward: -1.31\n",
      "Episode 2750 \tAverage Reward: -1.31\n",
      "Episode 2999 \tAverage Reward: -1.33"
     ]
    }
   ],
   "source": [
    "# train the agent with ddpg\n",
    "\n",
    "agent_ff = Agent(state_size, action_size, random_seed=2)\n",
    "\n",
    "scores, trajectories, actions_tracker = agent_ff.train_ddpg(env, n_episodes = 3000, print_every=250)"
   ]
  },
  {
   "cell_type": "code",
   "execution_count": 153,
   "id": "638eab31",
   "metadata": {},
   "outputs": [
    {
     "name": "stdout",
     "output_type": "stream",
     "text": [
      "1.2152690819316745\n",
      "1.0213692091312756\n",
      "False\n",
      "1.5280052355931246\n"
     ]
    },
    {
     "data": {
      "image/png": "[encoded data removed]",
      "text/plain": [
       "<Figure size 432x288 with 1 Axes>"
      ]
     },
     "metadata": {
      "needs_background": "light"
     },
     "output_type": "display_data"
    }
   ],
   "source": [
    "trajectories.plot(2999,legend=False)\n",
    "print(env.state[0])\n",
    "print(env.state[1])\n",
    "print(env.discover)\n",
    "print(np.sqrt(1.22**2+0.92**2))\n"
   ]
  },
  {
   "cell_type": "code",
   "execution_count": 154,
   "id": "11e11a18",
   "metadata": {
    "scrolled": true
   },
   "outputs": [
    {
     "data": {
      "text/plain": [
       "(<Figure size 432x288 with 1 Axes>, <AxesSubplot:>)"
      ]
     },
     "execution_count": 154,
     "metadata": {},
     "output_type": "execute_result"
    },
    {
     "data": {
      "image/png": "[encoded data removed]",
      "text/plain": [
       "<Figure size 432x288 with 1 Axes>"
      ]
     },
     "metadata": {
      "needs_background": "light"
     },
     "output_type": "display_data"
    }
   ],
   "source": [
    "trajectories.plot(0, legend=False)"
   ]
  },
  {
   "cell_type": "code",
   "execution_count": 26,
   "id": "8921ccc6",
   "metadata": {},
   "outputs": [],
   "source": [
    "env.add_forcefield(force=(0,0))"
   ]
  },
  {
   "cell_type": "code",
   "execution_count": 27,
   "id": "b706b204",
   "metadata": {},
   "outputs": [
    {
     "name": "stdout",
     "output_type": "stream",
     "text": [
      "Episode 0 \tAverage Reward: -10.00\n",
      "Episode 250 \tAverage Reward: -10.00\n",
      "Episode 500 \tAverage Reward: -10.00\n",
      "Episode 599 \tAverage Reward: -10.00"
     ]
    }
   ],
   "source": [
    "# train the agent with ddpg\n",
    "scores, trajectories, actions_tracker = agent.train_ddpg(env, n_episodes = 600, print_every=250, stop=False)"
   ]
  },
  {
   "cell_type": "code",
   "execution_count": 28,
   "id": "2772e6b6",
   "metadata": {},
   "outputs": [
    {
     "data": {
      "text/plain": [
       "(<Figure size 432x288 with 1 Axes>, <AxesSubplot:>)"
      ]
     },
     "execution_count": 28,
     "metadata": {},
     "output_type": "execute_result"
    },
    {
     "data": {
      "image/png": "[encoded data removed]",
      "text/plain": [
       "<Figure size 432x288 with 1 Axes>"
      ]
     },
     "metadata": {
      "needs_background": "light"
     },
     "output_type": "display_data"
    }
   ],
   "source": [
    "trajectories.plot(0, legend=False)"
   ]
  },
  {
   "cell_type": "code",
   "execution_count": null,
   "id": "f823df2c",
   "metadata": {},
   "outputs": [],
   "source": []
  }
 ],
 "metadata": {
  "kernelspec": {
   "display_name": "Python 3 (ipykernel)",
   "language": "python",
   "name": "python3"
  },
  "language_info": {
   "codemirror_mode": {
    "name": "ipython",
    "version": 3
   },
   "file_extension": ".py",
   "mimetype": "text/x-python",
   "name": "python",
   "nbconvert_exporter": "python",
   "pygments_lexer": "ipython3",
   "version": "3.7.5"
  }
 },
 "nbformat": 4,
 "nbformat_minor": 5
}
