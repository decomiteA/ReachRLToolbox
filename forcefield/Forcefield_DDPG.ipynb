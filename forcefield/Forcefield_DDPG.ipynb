{
 "cells": [
  {
   "cell_type": "code",
   "execution_count": 1,
   "id": "8fdffcee",
   "metadata": {},
   "outputs": [],
   "source": [
    "from ff_environment import TargetReach\n",
    "from agent import Agent\n",
    "from collections import deque\n",
    "import matplotlib.pyplot as plt\n",
    "import numpy as np\n",
    "import torch"
   ]
  },
  {
   "cell_type": "code",
   "execution_count": 2,
   "id": "050fc1c1",
   "metadata": {},
   "outputs": [],
   "source": [
    "env = TargetReach(space_padding=2)\n",
    "env_info = env.reset()"
   ]
  },
  {
   "cell_type": "code",
   "execution_count": 3,
   "id": "9c3973ad",
   "metadata": {},
   "outputs": [
    {
     "name": "stdout",
     "output_type": "stream",
     "text": [
      "Size of each action: 2\n",
      "The agent observes a state with length: 4\n",
      "The starting state looks like: [0.5 1.  0.  0. ]\n"
     ]
    }
   ],
   "source": [
    "# size of each action\n",
    "action_size = env.action_size\n",
    "print('Size of each action:', action_size)\n",
    "\n",
    "# examine the state space \n",
    "state = env_info.state\n",
    "state_size = len(state)\n",
    "print('The agent observes a state with length: {}'.format(state_size))\n",
    "print('The starting state looks like:', state)"
   ]
  },
  {
   "cell_type": "code",
   "execution_count": 4,
   "id": "3661a939",
   "metadata": {},
   "outputs": [],
   "source": [
    "# Instantiate the agent:\n",
    "agent = Agent(state_size, action_size, random_seed=2)"
   ]
  },
  {
   "cell_type": "code",
   "execution_count": 5,
   "id": "36ce042f",
   "metadata": {},
   "outputs": [
    {
     "name": "stdout",
     "output_type": "stream",
     "text": [
      "\r",
      "Episode 0 \tAverage Reward: -5.69\r",
      "Episode 0 \tAverage Reward: -5.69\n",
      "\r",
      "Episode 1 \tAverage Reward: -5.69\r",
      "Episode 2 \tAverage Reward: -5.58\r",
      "Episode 3 \tAverage Reward: -5.68\r",
      "Episode 4 \tAverage Reward: -6.39\r",
      "Episode 5 \tAverage Reward: -6.22\r",
      "Episode 6 \tAverage Reward: -6.26\r",
      "Episode 7 \tAverage Reward: -6.16\r",
      "Episode 8 \tAverage Reward: -6.21\r",
      "Episode 9 \tAverage Reward: -6.17\r",
      "Episode 10 \tAverage Reward: -6.14\r",
      "Episode 11 \tAverage Reward: -6.12\r",
      "Episode 12 \tAverage Reward: -6.07\r",
      "Episode 13 \tAverage Reward: -6.06\r",
      "Episode 14 \tAverage Reward: -6.01\r",
      "Episode 15 \tAverage Reward: -5.99\r",
      "Episode 16 \tAverage Reward: -6.04\r",
      "Episode 17 \tAverage Reward: -6.01\r",
      "Episode 18 \tAverage Reward: -6.01\r",
      "Episode 19 \tAverage Reward: -6.11\r",
      "Episode 20 \tAverage Reward: -6.11\r",
      "Episode 21 \tAverage Reward: -6.09\r",
      "Episode 22 \tAverage Reward: -6.11\r",
      "Episode 23 \tAverage Reward: -6.11\r",
      "Episode 24 \tAverage Reward: -6.09\r",
      "Episode 25 \tAverage Reward: -6.06\r",
      "Episode 26 \tAverage Reward: -6.04\r",
      "Episode 27 \tAverage Reward: -6.04\r",
      "Episode 28 \tAverage Reward: -6.02\r",
      "Episode 29 \tAverage Reward: -6.00\r",
      "Episode 30 \tAverage Reward: -5.99\r",
      "Episode 31 \tAverage Reward: -5.99\r",
      "Episode 32 \tAverage Reward: -5.98\r",
      "Episode 33 \tAverage Reward: -5.97\r",
      "Episode 34 \tAverage Reward: -5.95\r",
      "Episode 35 \tAverage Reward: -5.93\r",
      "Episode 36 \tAverage Reward: -5.92\r",
      "Episode 37 \tAverage Reward: -5.90"
     ]
    },
    {
     "name": "stderr",
     "output_type": "stream",
     "text": [
      "/Library/Frameworks/Python.framework/Versions/3.6/lib/python3.6/site-packages/torch/nn/functional.py:1794: UserWarning: nn.functional.tanh is deprecated. Use torch.tanh instead.\n",
      "  warnings.warn(\"nn.functional.tanh is deprecated. Use torch.tanh instead.\")\n"
     ]
    },
    {
     "name": "stdout",
     "output_type": "stream",
     "text": [
      "Episode 250 \tAverage Reward: -5.61\n",
      "Episode 500 \tAverage Reward: -5.38\n",
      "Episode 750 \tAverage Reward: -5.49\n",
      "Episode 1000 \tAverage Reward: -5.81\n",
      "Episode 1250 \tAverage Reward: -5.89\n",
      "Episode 1500 \tAverage Reward: -5.92\n",
      "Episode 1750 \tAverage Reward: -6.01\n",
      "Episode 2000 \tAverage Reward: -6.02\n",
      "Episode 2250 \tAverage Reward: -5.86\n",
      "Episode 2500 \tAverage Reward: -5.86\n",
      "Episode 2750 \tAverage Reward: -5.85\n",
      "Episode 3000 \tAverage Reward: -5.87\n",
      "Episode 3250 \tAverage Reward: -5.81\n",
      "Episode 3500 \tAverage Reward: -5.80\n",
      "Episode 3750 \tAverage Reward: -5.79\n",
      "Episode 4000 \tAverage Reward: -5.74\n",
      "Episode 4250 \tAverage Reward: -5.75\n",
      "Episode 4500 \tAverage Reward: -5.69\n",
      "Episode 4750 \tAverage Reward: -5.73\n",
      "Episode 5000 \tAverage Reward: -5.71\n",
      "Episode 5250 \tAverage Reward: -5.73\n",
      "Episode 5500 \tAverage Reward: -5.68\n",
      "Episode 5750 \tAverage Reward: -5.66\n",
      "Episode 5999 \tAverage Reward: -5.65"
     ]
    }
   ],
   "source": [
    "# train the agent with ddpg\n",
    "scores, trajectories, actions_tracker = agent.train_ddpg(env, n_episodes = 6000, print_every=250)"
   ]
  },
  {
   "cell_type": "code",
   "execution_count": 8,
   "id": "03ea395d",
   "metadata": {},
   "outputs": [
    {
     "data": {
      "text/plain": [
       "(<Figure size 432x288 with 1 Axes>, <AxesSubplot:>)"
      ]
     },
     "execution_count": 8,
     "metadata": {},
     "output_type": "execute_result"
    },
    {
     "data": {
      "image/png": "[encoded data removed]",
      "text/plain": [
       "<Figure size 432x288 with 1 Axes>"
      ]
     },
     "metadata": {
      "needs_background": "light"
     },
     "output_type": "display_data"
    }
   ],
   "source": [
    "trajectories.plot(50, legend=False)"
   ]
  },
  {
   "cell_type": "code",
   "execution_count": 7,
   "id": "08c5d471",
   "metadata": {},
   "outputs": [
    {
     "data": {
      "text/plain": [
       "[<matplotlib.lines.Line2D at 0x13a703fd0>]"
      ]
     },
     "execution_count": 7,
     "metadata": {},
     "output_type": "execute_result"
    },
    {
     "data": {
      "image/png": "[encoded data removed]",
      "text/plain": [
       "<Figure size 432x288 with 1 Axes>"
      ]
     },
     "metadata": {
      "needs_background": "light"
     },
     "output_type": "display_data"
    }
   ],
   "source": [
    "plt.plot(scores)"
   ]
  },
  {
   "cell_type": "code",
   "execution_count": null,
   "id": "9815594b",
   "metadata": {},
   "outputs": [],
   "source": []
  }
 ],
 "metadata": {
  "kernelspec": {
   "display_name": "Python 3",
   "language": "python",
   "name": "python3"
  },
  "language_info": {
   "codemirror_mode": {
    "name": "ipython",
    "version": 3
   },
   "file_extension": ".py",
   "mimetype": "text/x-python",
   "name": "python",
   "nbconvert_exporter": "python",
   "pygments_lexer": "ipython3",
   "version": "3.6.8"
  }
 },
 "nbformat": 4,
 "nbformat_minor": 5
}
