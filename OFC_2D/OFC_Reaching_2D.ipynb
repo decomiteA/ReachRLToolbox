{
  "nbformat": 4,
  "nbformat_minor": 0,
  "metadata": {
    "colab": {
      "name": "OFC_Reaching_2D",
      "provenance": [],
      "collapsed_sections": []
    },
    "kernelspec": {
      "name": "python3",
      "display_name": "Python 3"
    }
  },
  "cells": [
    {
      "cell_type": "markdown",
      "metadata": {
        "id": "rd-uRhH1cmSn"
      },
      "source": [
        "# LGBIO2060 - Exercise session 4\n",
        "\n",
        "**Optimal feedback control - LQG** \n",
        "\n",
        "\n",
        "**Authors:** Florence Blondiaux & Antoine de Comite"
      ]
    },
    {
      "cell_type": "markdown",
      "metadata": {
        "id": "GMZwVUqobbDg"
      },
      "source": [
        "**At the end of this tutorial you should be able to:**\n",
        "\n",
        "* Write the equations that characterise the dynamics of a system in their matricial form.\n",
        "\n",
        "* Express the cost function corresponding to a task as a sum of quadratic forms and understand the meaning of the different parameters of this cost function\n",
        "\n",
        "* Implement the backward recursion that determines the optimal set of gains to be applied in order for the controller to behave optimally\n",
        "\n",
        "* Apply a Kalman filter as an optimal observer of the system we want to model"
      ]
    },
    {
      "cell_type": "markdown",
      "metadata": {
        "id": "cEi52Hd4c3OE"
      },
      "source": [
        "## Import and helper functions\n",
        "**Please execute the cell below to initialize the notebook environment**"
      ]
    },
    {
      "cell_type": "code",
      "metadata": {
        "id": "X_He_4QlckhJ"
      },
      "source": [
        "#@title Imports\n",
        "import numpy as np\n",
        "import matplotlib.pyplot as plt"
      ],
      "execution_count": 44,
      "outputs": []
    },
    {
      "cell_type": "markdown",
      "metadata": {
        "id": "vYDwDdw8eMLJ"
      },
      "source": [
        "# Section 1 - State space representation\n",
        "\n",
        "In this first section, we will model the system we are going to control. We will consider a 2-dimensional model of the upper limb dynamics. \n",
        "\n",
        "Let $\\textbf{x}$ be the state vector that characterises the system. This state vector contains all the information we want to keep track about the system (position (x,y), velocity($\\dot{x}$,$\\dot{y}$), forces($F_x$,$F_y$),...). \n",
        "\n",
        "We will start from basic dynamics equations :\n",
        "\n",
        "\\begin{eqnarray}\n",
        "\\sum_i \\vec{F}_i = m\\vec{a}_i\n",
        "\\end{eqnarray}\n",
        "\n",
        "For upper limb movements, we obtain the following equations :  \n",
        "\n",
        "\n",
        "\\begin{eqnarray}\n",
        "\\ddot{x} & = & -k_v \\dot{x} + F_x\\\\\n",
        "\\ddot{y} & = & -k_v \\dot{y} + F_y\\\\\n",
        "\\tau \\dot{F_x} & = & u_x - F_x\\\\\n",
        "\\tau \\dot{F_y} & = & u_y - F_y\\\\\n",
        "\\end{eqnarray}\n",
        "\n",
        "\n",
        "\n",
        "In order to be able to numerically handle these equations, we have to **discretize** these. Before this discretization step, we have to transform every second order differential equation in two first order differential equations using the following trick:\n",
        "\n",
        "\n",
        "\\begin{eqnarray}\n",
        "u'' & = & a_0 u +a_1 u' \\\\\n",
        "\\begin{bmatrix}\n",
        "u' \\\\ u''\n",
        "\\end{bmatrix}\n",
        " & = & \\begin{bmatrix}\n",
        " 0 & 1 \\\\ a_0 & a_1\n",
        " \\end{bmatrix}\n",
        " \\begin{bmatrix}\n",
        " u\\\\\n",
        " u'\n",
        " \\end{bmatrix}\n",
        "\\end{eqnarray}\n",
        "\n",
        "\n",
        "**Exercise 1A**\n",
        "\n",
        "Rewrite the Newton's equations using the trick above in a matricial form \n",
        "\n",
        "\\begin{equation}\n",
        "\\dot{x}(t) = Ax(t) + Bu(t) + noise(t)\n",
        "\\end{equation}\n",
        "\n",
        "Find the A and the B matrices for this system (the noise will be handled later).\n",
        "\n",
        "**Exercise 1B**\n",
        "\n",
        "Discretize these equations using  Euler's method in order to obtain the following system:\n",
        "\n",
        "\\begin{eqnarray}\n",
        "x[t+1] & = & A_{discrete} x[t] + B_{discrete}u[t] + noise[t]\n",
        "\\end{eqnarray}\n",
        "\n",
        "\n",
        "\n",
        "**In the cell below**, enter the discretized version of your **A** & **B** matrices : "
      ]
    },
    {
      "cell_type": "code",
      "metadata": {
        "id": "hK0CHcwKCR71"
      },
      "source": [
        "N = 50  # Nb of steps\n",
        "\n",
        "dt = 0.01\n",
        "kv = 0.1\n",
        "tau = 0.05\n",
        "lamb = 0\n",
        "ns = 6\n",
        "\n",
        "###############################\n",
        "## Complete the code below ####\n",
        "###############################\n",
        "\n",
        "\n",
        "A = np.array([[1,0,dt,0,0,0],[0,1,0,dt,0,0],[0,0,1-kv*dt,0,dt,0],[0,0,0,1-kv*dt,0,dt],[0,0,0,0,1-dt/tau,0],[0,0,0,0,0,1-dt/tau]])\n",
        "B = np.zeros((6,2))\n",
        "B[4,:]=np.array([dt/tau,0])\n",
        "B[5,:]=np.array([0,dt/tau])"
      ],
      "execution_count": 45,
      "outputs": []
    },
    {
      "cell_type": "markdown",
      "metadata": {
        "id": "HMV7buBNxZoj"
      },
      "source": [
        "## Section 2 - Cost Function\n",
        "\n",
        "In this second section, we have to define how we want to perform the movement. Two parameters have to be taken into account:\n",
        "\n",
        "* The end-point accuracy (how close to the goal we want to end)\n",
        "* The energitical expenditure we want to engage in the task\n",
        "\n",
        "These two terms can be encapsulated using the following equation :\n",
        "\\begin{eqnarray}\n",
        "J(\\bar{x},\\bar{u}) & = & \\bar{x}_N^T Q_N \\bar{x}_N + \\sum_i \\bar{u}_i^T R \\bar{u}_i\n",
        "\\end{eqnarray}\n",
        "\n",
        "For the end-point accuracy, we want to determine the $Q_N$ matrix such that : \n",
        "\\begin{eqnarray}\n",
        "\\bar{x}_N^T Q_N \\bar{x}_N & = & w_1 x_N^2 + w_2 y_N^2 + w_3 v_x^2 + w_4 v_y^2\n",
        "\\end{eqnarray}\n",
        "\n",
        "**Exercise 2**\n",
        "\n",
        "Using this inequality, determines the shape and entries of the matrix $Q_N$ and complete the code below. Choose arbitrary values for the $w_i$s, you would have time later on to investigate their impact."
      ]
    },
    {
      "cell_type": "code",
      "metadata": {
        "id": "7W4CQy_WCUxn"
      },
      "source": [
        "###############################\n",
        "## Complete the code below ####\n",
        "###############################\n",
        "\n",
        "w1 = 10\n",
        "w2 = 10\n",
        "w3 = 0.1\n",
        "w4 = 0.1\n",
        "QN = np.zeros((6,6))\n",
        "QN[0,0]=w1\n",
        "QN[1,1]=w2\n",
        "QN[2,2]=w3\n",
        "QN[3,3]=w4\n",
        "# We set the R matrix as follows, later on you can change it to see its effect on the controller\n",
        "R = np.array([(10 ** -4, 0), (0, 10 ** -4)])"
      ],
      "execution_count": 46,
      "outputs": []
    },
    {
      "cell_type": "markdown",
      "metadata": {
        "id": "XWpfZPVZLk5M"
      },
      "source": [
        "## Section 3 - Optimal Control\n",
        "\n",
        "Now that our system is defined and that we have our cost function, we want to find the control sequence $u_1$, $u_2$, $u_3$, ... $u_n$ that minimizes the cost. From all the motor commands we can do to reach our goal, we want to find the most optimal. \n",
        "\n",
        "The solution of this problem ([proof here]()) is given by the following **backward** recursion.\n",
        "\n",
        "\\begin{eqnarray}\n",
        "S_N &=& Q_N, \\qquad s_N = 0,\\\\\n",
        "L_k &=& \\left(R+B^TS_{k+1}B\\right)^{-1}B^TS_{k+1}A,\\\\\n",
        "S_k &=& Q_k + A^TS_{k+1}(A-BL_k).\n",
        "\\end{eqnarray}\n",
        "\n",
        "We can simulate the system forward since the control signal is defined as $u_k = -L_k x_k$, the dynamics becomes:\n",
        "\n",
        "\\begin{eqnarray}\n",
        "x_{k+1} = (A-BL_k)x_k + \\xi_k.\n",
        "\\end{eqnarray}\n",
        "\n",
        "Where $\\xi_k \\sim \\mathcal{N}(0,\\Omega_{\\xi})$, which corresponds to the noise on the motor command. The covariance matrix, $\\Omega_{\\xi}$, has very low values ( $10^{-4}$).\n",
        "\n",
        "\n",
        "**Exercise 3a** \n",
        "\n",
        "Implement the background recursion to compute the control gains of the controler\n"
      ]
    },
    {
      "cell_type": "code",
      "metadata": {
        "id": "2OKxeC3lLrzx"
      },
      "source": [
        "L = np.zeros((N, 2, ns))\n",
        "S = np.zeros((N, ns, ns))\n",
        "Q = np.zeros((N, ns, ns))\n",
        "\n",
        "###############################\n",
        "## Complete the code below ####\n",
        "###############################\n",
        "# (hint : fill in L and S matrices in the backward loop)\n",
        "Q[N - 1, :, :] = QN\n",
        "S[N - 1, :, :] = QN\n",
        "\n",
        "for i in range(N - 1, 0, -1):\n",
        "  L[i,:,:]=np.linalg.solve(R+B.T@S[i,:,:]@B,B.T@S[i,:,:]@A)\n",
        "  S[i-1,:,:]=A.T@S[i,:,:]@(A-B@L[i,:,:])\n"
      ],
      "execution_count": 47,
      "outputs": []
    },
    {
      "cell_type": "markdown",
      "metadata": {
        "id": "bw3Mf7CpBNZc"
      },
      "source": [
        "Using the control gains you have computed above, you can already simulate some movements, try to set a goal and run your code to see if this model behaves as you would expect.\n",
        "\n",
        "**Exercise 3b**\n",
        "\n",
        "Simulate the movement using the control gains you just computed "
      ]
    },
    {
      "cell_type": "code",
      "metadata": {
        "id": "LRrG4elzB4r3",
        "colab": {
          "base_uri": "https://localhost:8080/",
          "height": 816
        },
        "outputId": "b66c2936-bc8a-414d-b18f-56b5fba83325"
      },
      "source": [
        "X = np.zeros((N, ns, 1))\n",
        "\n",
        "#Change the first entries of the vector below to investigate different starting position\n",
        "print(L[45,:,:])\n",
        "X[0, :, :] = [[0.2], [0.3], [0], [0], [0], [0]]\n",
        "\n",
        "#Computation of the motor noise \n",
        "Xi = np.random.normal(loc=0, scale=10 ** -4, size=(N, 6, 1))\n",
        "\n",
        "###############################\n",
        "## Complete the code below ####\n",
        "###############################\n",
        "for j in range(0, N - 1):\n",
        "  X[j+1,:,:]=(A-B@L[j,:,:])@X[j,:,:]+Xi[j,:,:]\n",
        "###############################\n",
        "## Complete the code below ####\n",
        "###############################\n",
        "\n",
        "#Create a representation of positions and speeds with respect to time and characterise their evolution\n",
        "fig, ax=plt.subplots()\n",
        "ax.plot(X[:,0,:],X[:,1,:],'r',LineWidth=2.5)\n",
        "fig, ax=plt.subplots()\n",
        "ax.plot(range(N),X[:,0,:],'b')\n",
        "ax.plot(range(N),X[:,1,:],'r')\n",
        "fig, ax=plt.subplots()\n",
        "ax.plot(range(N),X[:,2,:],'r')\n",
        "ax.plot(range(N),X[:,3,:],'b')"
      ],
      "execution_count": 52,
      "outputs": [
        {
          "output_type": "stream",
          "text": [
            "[[9.93165548 0.         5.93951785 0.         0.19160015 0.        ]\n",
            " [0.         9.93165548 0.         5.93951785 0.         0.19160015]]\n"
          ],
          "name": "stdout"
        },
        {
          "output_type": "execute_result",
          "data": {
            "text/plain": [
              "[<matplotlib.lines.Line2D at 0x7fd046a54890>]"
            ]
          },
          "metadata": {
            "tags": []
          },
          "execution_count": 52
        },
        {
          "output_type": "display_data",
          "data": {
            "image/png": "[encoded data removed]",
            "text/plain": [
              "<Figure size 432x288 with 1 Axes>"
            ]
          },
          "metadata": {
            "tags": [],
            "needs_background": "light"
          }
        },
        {
          "output_type": "display_data",
          "data": {
            "image/png": "[encoded data removed]",
            "text/plain": [
              "<Figure size 432x288 with 1 Axes>"
            ]
          },
          "metadata": {
            "tags": [],
            "needs_background": "light"
          }
        },
        {
          "output_type": "display_data",
          "data": {
            "image/png": "[encoded data removed]",
            "text/plain": [
              "<Figure size 432x288 with 1 Axes>"
            ]
          },
          "metadata": {
            "tags": [],
            "needs_background": "light"
          }
        }
      ]
    },
    {
      "cell_type": "markdown",
      "metadata": {
        "id": "w0E0HF9bjfhN"
      },
      "source": [
        "##Section 4 - State Estimation\n",
        "\n",
        "Despite the good movements simulated by our model, this does not match with the reality. Indeed, we don't have access to the exact state of our body. We have to estimate it by combining sensory feedback information (visual, somatosensory, ... ) with the dynamics we know of our body. For example, when we contract a muscle we know that our limb will move, and we know approximatly how it will move.\n",
        "\n",
        "Due to the uncertainty we have on both informations, we will combine them in an optimal and continuous way by using the **Kalman filter** we saw in the previous tutorial.\n",
        "\n",
        "We will consider that the information we extracted from our sensory feedback can be defined as follow : \n",
        "\\begin{eqnarray*}\n",
        "y_k = Hx_k + \\omega_k,\n",
        "\\end{eqnarray*}\n",
        "with $\\omega_k \\sim \\mathcal{N}(0,\\Omega_{\\omega})$ which corresponds to the sensory noise, the covariance matrix in this case will have values around $10^{-2}$. \n",
        "\n",
        "The kalman gains that allows us to combine these informations can be computed using the following forward recursion: \n",
        "\\begin{eqnarray}\n",
        "\\Sigma_1, \\hat{x}_1&&  \\textrm{given}\\\\\n",
        "K_{k} &=& A\\Sigma_kH^T\\left(H\\Sigma_KH^T+\\Omega_{\\omega}\\right)^{-1},\\\\\n",
        "\\Sigma_{k+1} &=& \\Omega_{\\xi} + (A-K_kH)\\Sigma_k A^T\\\\\n",
        "\\hat{x}_{k+1} &=& A\\hat{x}_k + B u_k + K_{k}\\left(y_k - H\\hat{x}_k\\right).\n",
        "\\end{eqnarray}\n",
        "\n",
        "Where $\\Sigma_1 = 10^{-6} \\mathbb{I}_n$.\n",
        "\n",
        "\n",
        "Compare the results you obtained when adding feedback to the results you obtained earlier.\n",
        "\n",
        "\n",
        "**Warning** : Since the real state of the system is not correctly accessible, it cannot be used by the controller to generate the command. The motor system has therefore to use the best approximation it has about this state which is the current state estimation $\\hat{x}$.\n",
        "\n",
        "\n",
        "**Exercise 4** \n",
        "\n",
        "Add the Kalman filter to your controller to implement the optimal state estimator by completing the cell below.\n"
      ]
    },
    {
      "cell_type": "code",
      "metadata": {
        "id": "ng6lKJ0nCvQo",
        "colab": {
          "base_uri": "https://localhost:8080/",
          "height": 779
        },
        "outputId": "90b6cd94-e2a9-4a15-fec4-3314e774206b"
      },
      "source": [
        "#Initialize the state estimation... What is the size of hte matrix? How would you complete the information corresponding to the first time step? \n",
        "\n",
        "Xhat = np.zeros_like(X)\n",
        "Xhat[0, :, :] = X[0,:,:] + np.random.normal(loc=0, scale=10 ** -6, size=(6, 1))\n",
        "\n",
        "#Initialization of the command and observable\n",
        "Y = np.zeros((N, ns, 1))\n",
        "U = np.zeros((N,2,1))\n",
        "\n",
        "\n",
        "#Initialization of the covariance matrix of the state, how would you initialize the first covariance matrix? \n",
        "Sigma = np.zeros((N, ns, ns))\n",
        "Sigma[0,:,:] = np.random.normal(loc=0, scale=10 ** -2, size=(1, ns, 1))\n",
        "\n",
        "\n",
        "#Some more initialization (nothing to do for you here)\n",
        "K = np.zeros((N, ns, ns))\n",
        "H = np.eye(ns)\n",
        "Xi = np.random.normal(loc=0, scale=10 ** -4, size=(N, ns, 1))\n",
        "Omega = np.random.normal(loc=0, scale=10 ** -2, size=(N, ns, 1))\n",
        "oXi = 0.1 * (B @ B.T)\n",
        "oOmega = 0.1 * np.max(np.max(oXi)) * np.eye(ns)\n",
        "\n",
        "#Fill in the following loop to complete \n",
        "# \n",
        "# state evolution\n",
        "# observatoin evolutino\n",
        "# computation of K and Sigma\n",
        "# computation of the command\n",
        "# evolution of the state estimation\n",
        "\n",
        "for j in range(0, N - 1):\n",
        "  X[j+1,:,:]=A@X[j,:,:]-B@L[j,:,:]@Xhat[j,:,:]+Xi[j,:,:]\n",
        "  Y[j+1,:,:] = H@X[j,:,:]+Omega[j+1,:,:]\n",
        "\n",
        "  K[j,:,:] = A@Sigma[j,:,:]@H.T@np.linalg.inv(H@Sigma[j,:,:]@H.T+oOmega)\n",
        "  Sigma[j+1,:,:] = oXi + (A-K[j,:,:]@H)@Sigma[j,:,:]@A.T\n",
        "\n",
        "  Xhat[j+1,:,:] = (A-B@L[j,:,:])@Xhat[j,:,:] + K[j,:,:]@(Y[j,:,:]-H@Xhat[j,:,:])\n",
        "\n",
        "#Plot the time evolution of the state, its observation and its estimation.. What do you observe? \n",
        "fig, ax=plt.subplots()\n",
        "ax.plot(X[:,0,:],X[:,1,:],'r',LineWidth=2.5)\n",
        "fig, ax=plt.subplots()\n",
        "ax.plot(range(N),X[:,0,:],'b')\n",
        "ax.plot(range(N),X[:,1,:],'r')\n",
        "ax.plot(range(N),Xhat[:,0,:],'b:')\n",
        "ax.plot(range(N),Xhat[:,1,:],'r:')\n",
        "fig, ax=plt.subplots()\n",
        "ax.plot(range(N),X[:,2,:],'r')\n",
        "ax.plot(range(N),X[:,3,:],'b')"
      ],
      "execution_count": 58,
      "outputs": [
        {
          "output_type": "execute_result",
          "data": {
            "text/plain": [
              "[<matplotlib.lines.Line2D at 0x7fd0466b7f50>]"
            ]
          },
          "metadata": {
            "tags": []
          },
          "execution_count": 58
        },
        {
          "output_type": "display_data",
          "data": {
            "image/png": "[encoded data removed]",
            "text/plain": [
              "<Figure size 432x288 with 1 Axes>"
            ]
          },
          "metadata": {
            "tags": [],
            "needs_background": "light"
          }
        },
        {
          "output_type": "display_data",
          "data": {
            "image/png": "[encoded data removed]",
            "text/plain": [
              "<Figure size 432x288 with 1 Axes>"
            ]
          },
          "metadata": {
            "tags": [],
            "needs_background": "light"
          }
        },
        {
          "output_type": "display_data",
          "data": {
            "image/png": "[encoded data removed]",
            "text/plain": [
              "<Figure size 432x288 with 1 Axes>"
            ]
          },
          "metadata": {
            "tags": [],
            "needs_background": "light"
          }
        }
      ]
    }
  ]
}