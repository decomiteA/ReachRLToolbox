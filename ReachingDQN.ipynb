{
  "nbformat": 4,
  "nbformat_minor": 0,
  "metadata": {
    "colab": {
      "name": "ReachingDQN",
      "provenance": [],
      "authorship_tag": "ABX9TyOxXoqSvtAiXvWzj1oMqmZJ",
      "include_colab_link": true
    },
    "kernelspec": {
      "name": "python3",
      "display_name": "Python 3"
    },
    "language_info": {
      "name": "python"
    }
  },
  "cells": [
    {
      "cell_type": "markdown",
      "metadata": {
        "id": "view-in-github",
        "colab_type": "text"
      },
      "source": [
        "<a href=\"https://colab.research.google.com/github/decomiteA/ReachRLToolbox/blob/StudyReach/ReachingDQN.ipynb\" target=\"_parent\"><img src=\"https://colab.research.google.com/assets/colab-badge.svg\" alt=\"Open In Colab\"/></a>"
      ]
    },
    {
      "cell_type": "markdown",
      "metadata": {
        "id": "UWx7H6BDrsvN"
      },
      "source": [
        "This notebook computes the cost-to-go function (or the state value function) at any state of the considered state space by using an approximation determine thanks to DQN. \n",
        "\n",
        "Author : Antoine De Comite, SensMotionLab, UCLouvain, Belgium"
      ]
    },
    {
      "cell_type": "code",
      "metadata": {
        "colab": {
          "base_uri": "https://localhost:8080/"
        },
        "id": "xLfA9TIaroz3",
        "outputId": "bead2147-0178-4ec4-9b15-41abaea9f628"
      },
      "source": [
        "#Let's take a look at the test case \n",
        "import numpy as np \n",
        "import matplotlib.pyplot as plt \n",
        "from scipy.signal import convolve as conv \n"
      ],
      "execution_count": 2,
      "outputs": [
        {
          "output_type": "stream",
          "text": [
            "2\n"
          ],
          "name": "stdout"
        }
      ]
    },
    {
      "cell_type": "code",
      "metadata": {
        "id": "fSDrh7np1YEy"
      },
      "source": [
        "class ReachingMvt():\n",
        "  \"\"\"\n",
        "  TODO\n",
        "  \"\"\"\n",
        "\n",
        "  def __init__(self):\n",
        "    self.name=\"Classical reaching\"\n",
        "    self.n_states=\n",
        "    self.n_actions=\n",
        "    self.init_state=\n",
        "\n",
        "  def get_outcome(self,state,action):"
      ],
      "execution_count": null,
      "outputs": []
    }
  ]
}