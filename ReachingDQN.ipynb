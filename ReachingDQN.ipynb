{
  "nbformat": 4,
  "nbformat_minor": 0,
  "metadata": {
    "colab": {
      "name": "ReachingDQN",
      "provenance": [],
      "authorship_tag": "ABX9TyOgdRBrBJrJhPU5OK9NFlPD",
      "include_colab_link": true
    },
    "kernelspec": {
      "name": "python3",
      "display_name": "Python 3"
    },
    "language_info": {
      "name": "python"
    }
  },
  "cells": [
    {
      "cell_type": "markdown",
      "metadata": {
        "id": "view-in-github",
        "colab_type": "text"
      },
      "source": [
        "<a href=\"https://colab.research.google.com/github/decomiteA/ReachRLToolbox/blob/StudyReach/ReachingDQN.ipynb\" target=\"_parent\"><img src=\"https://colab.research.google.com/assets/colab-badge.svg\" alt=\"Open In Colab\"/></a>"
      ]
    },
    {
      "cell_type": "markdown",
      "metadata": {
        "id": "UWx7H6BDrsvN"
      },
      "source": [
        "This notebook computes the cost-to-go function (or the state value function) at any state of the considered state space by using an approximation determine thanks to DQN. \n",
        "\n",
        "Author : Antoine De Comite, SensMotionLab, UCLouvain, Belgium"
      ]
    },
    {
      "cell_type": "code",
      "metadata": {
        "colab": {
          "base_uri": "https://localhost:8080/"
        },
        "id": "xLfA9TIaroz3",
        "outputId": "bead2147-0178-4ec4-9b15-41abaea9f628"
      },
      "source": [
        "#Let's take a look at the test case \n",
        "import numpy as np \n",
        "import matplotlib.pyplot as plt \n",
        "from scipy.signal import convolve as conv \n"
      ],
      "execution_count": null,
      "outputs": [
        {
          "output_type": "stream",
          "text": [
            "2\n"
          ],
          "name": "stdout"
        }
      ]
    },
    {
      "cell_type": "code",
      "metadata": {
        "id": "fSDrh7np1YEy"
      },
      "source": [
        "class ReachingMvt():\n",
        "  \"\"\"\n",
        "  TODO\n",
        "  \"\"\"\n",
        "\n",
        "  def __init__(self):\n",
        "    self.name=\"Classical reaching\"\n",
        "    self.n_states=\n",
        "    self.n_actions=\n",
        "    self.init_state=\n",
        "\n",
        "  def get_outcome(self,state,action):\n",
        "    if isTerminal(self,state):\n",
        "      reward = 0\n",
        "      next_state = None\n",
        "    else:\n",
        "      reward,next_state = move_fwd(self,state,action)\n",
        "    return int(next_state) if next_state is not None else None, reward\n",
        "  \n",
        "  def move_fwd(self,state,action):\n",
        "    A = np.zeros((6,6))\n",
        "    A[0,2]=1\n",
        "    A[1,3]=1\n",
        "    A[2,2]=-0.1\n",
        "    A[2,4]=1\n",
        "    A[3,3]=-0.1\n",
        "    A[3,5]=1\n",
        "    A[4,4]=-1/0.05\n",
        "    A[5,5]=-1/0.05\n",
        "\n",
        "    B=np.zeros((6,2))\n",
        "    B[4,0]=1/0.05\n",
        "    B[5,1]=1/0.05\n",
        "\n",
        "\n",
        "    reward = np.linalg.norm(action)\n",
        "    next_state = A @ state + B @ action\n",
        "\n",
        "    return reward,next_state\n"
      ],
      "execution_count": null,
      "outputs": []
    }
  ]
}